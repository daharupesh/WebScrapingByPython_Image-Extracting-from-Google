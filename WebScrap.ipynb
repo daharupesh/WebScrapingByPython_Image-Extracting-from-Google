{
 "cells": [
  {
   "cell_type": "markdown",
   "metadata": {},
   "source": [
    "Welcome to all of you in this video.\n",
    "We are going to make one system by using that we can extract the image from the google... Lets start"
   ]
  },
  {
   "cell_type": "code",
   "execution_count": 4,
   "metadata": {},
   "outputs": [],
   "source": [
    "# import libraries\n",
    "\n",
    "import requests\n",
    "from bs4 import BeautifulSoup\n",
    "from urllib.request import urlopen as UReq\n",
    "import os"
   ]
  },
  {
   "cell_type": "code",
   "execution_count": 5,
   "metadata": {},
   "outputs": [],
   "source": [
    "save_dir = \"images/\"  # to create new directory to store images\n",
    "if not os.path.exists(save_dir):\n",
    "    os.makedirs(save_dir)\n",
    "    "
   ]
  },
  {
   "cell_type": "code",
   "execution_count": 18,
   "metadata": {},
   "outputs": [],
   "source": [
    "query = \"Salman Khan\"\n",
    "response = requests.get(f\"https://www.google.com/search?sca_esv=c0b955b0d7f1ad2c&sxsrf=ADLYWIJ99v585UrpL-ET7B-kRd_2gXcong:1722850946788&q={query}&udm=2&fbs=AEQNm0AMrUEM0u25RSHSP2GXBv1FqRTJXslv5T9cWPShXuZK-unDRtidhDD6MO07O664cf3rzCkRGzT6TOmIkWN6z59BEI_sG_WvMHTpzIDOeN0PG5PbQE-fUxh_CRmIjIVTMPZLqRLt8LEJmd-JeyXMTy_SsVO4Ripm82z6vpZhP9tO4TJ_Xc2C9SbcBfqKU5SUBcd-NfHrlEA0NtWnPbhLSCHG8iDz0g&sa=X&ved=2ahUKEwjYrbz1x92HAxXl-TgGHZ_aLukQtKgLegQIBxAB&biw=1536&bih=730&dpr=1.25\")\n"
   ]
  },
  {
   "cell_type": "code",
   "execution_count": 19,
   "metadata": {},
   "outputs": [
    {
     "data": {
      "text/plain": [
       "<Response [200]>"
      ]
     },
     "execution_count": 19,
     "metadata": {},
     "output_type": "execute_result"
    }
   ],
   "source": [
    "response # response is success"
   ]
  },
  {
   "cell_type": "code",
   "execution_count": 20,
   "metadata": {},
   "outputs": [],
   "source": [
    "soup = BeautifulSoup(response.content , \"html.parser\")"
   ]
  },
  {
   "cell_type": "code",
   "execution_count": 21,
   "metadata": {},
   "outputs": [
    {
     "data": {
      "text/plain": [
       "<!DOCTYPE html PUBLIC \"-//WAPFORUM//DTD XHTML Mobile 1.0//EN\" \"http://www.wapforum.org/DTD/xhtml-mobile10.dtd\">\n",
       "<html lang=\"en-IN\" xmlns=\"http://www.w3.org/1999/xhtml\"><head><meta content=\"application/xhtml+xml; charset=utf-8\" http-equiv=\"Content-Type\"/><meta content=\"no-cache\" name=\"Cache-Control\"/><title>Salman Khan - Google Search</title><style>a{text-decoration:none;color:inherit}a:hover{text-decoration:underline}a img{border:0}body{font-family:arial,sans-serif;padding:8px;margin:0 auto;max-width:700px;min-width:240px;}.FbhRzb{border-left:thin solid #dadce0;border-right:thin solid #dadce0;border-top:thin solid #dadce0;height:40px;overflow:hidden}.n692Zd{margin-bottom:10px}.cvifge{height:40px;border-spacing:0}.QvGUP{height:40px;padding:0 8px 0 8px;vertical-align:top}.O4cRJf{height:40px;width:100%;padding:0;padding-right:14px}.O1ePr{height:40px;padding:0;vertical-align:top}.kgJEQe{height:36px;width:98px;vertical-align:top;margin-top:4px}.lXLRf{vertical-align:top}.MhzMZd{border:0;vertical-align:middle;font-size:14px;height:40px;padding:0;width:100%;padding-left:14px}.xB0fq{height:40px;border:none;font-size:14px;background-color:#1a73e8;color:#fff;padding:0 14px;margin:0;vertical-align:top;cursor:pointer}.xB0fq:focus{border:1px solid #1a73e8}.M7pB2{border:thin solid #dadce0;margin:0 0 3px 0;font-size:13px;font-weight:500;height:40px}.euZec{width:100%;height:40px;text-align:center;border-spacing:0}table.euZec td{padding:0;width:25%}.QIqI7{display:inline-block;padding-top:4px;font-weight:bold;color:#4285f4}.EY24We{border-bottom:2px solid #4285f4}.CsQyDc{display:inline-block;color:#70757a}.TuS8Ad{font-size:14px}.HddGcc{padding:8px;color:#70757a}.dzp8ae{font-weight:bold;color:#3c4043}.rEM8G{color:#70757a}.bookcf{table-layout:fixed;width:100%;border-spacing:0}.InWNIe{text-align:center}.uZgmoc{border:thin solid #dadce0;color:#70757a;font-size:14px;text-align:center;table-layout:fixed;width:100%}.frGj1b{display:block;padding:16px 0 12px 0;width:100%}.BnJWBc{text-align:center;padding:6px 0 13px 0;height:35px}.e3goi{vertical-align:top;padding:0;height:180px}.GpQGbf{margin:auto;border-collapse:collapse;border-spacing:0;width:100%}</style></head><body><style>.X6ZCif{color:#202124;font-size:11px;line-height:16px;display:inline-block;padding-top:2px;overflow:hidden;padding-bottom:4px;width:100%}.TwVfHd{border-radius:16px;border:thin solid #dadce0;display:inline-block;padding:8px 8px;margin-right:8px;margin-bottom:4px}.yekiAe{background-color:#dadce0}.jjVJ4e{width:100%}.ezO2md{border:thin solid #dadce0;padding:16px 14px 12px 14px;margin-bottom:10px;font-family:arial,sans-serif}.lIMUZd{font-family:arial,sans-serif}.RntSmf{border-spacing:0}.lgD2Tc{width:100%}.SpelHe{text-align:center}.SpelHe{position:relative}.kCmkOe{position:relative}.kCmkOe{width:162px;height:140px;line-height:140px;overflow:'hidden';text-align:center}.DS1iW{text-align:center;margin:auto;vertical-align:middle;max-width:162px;max-height:140px}.AlD19d{padding-top:2px;padding-bottom:8px;}.fYyStc{word-break:break-word}.ynsChf{display:block;white-space:nowrap;overflow:hidden;text-overflow:ellipsis}.Fj3V3b{color:#1967d2;font-size:14px;line-height:20px}.FrIlee{color:#202124;font-size:11px;line-height:16px}.F9iS2e{color:#70757a;font-size:11px;line-height:16px}.WMQ2Le{color:#70757a;font-size:12px;line-height:16px}.x3G5ab{color:#202124;font-size:12px;line-height:16px}.fuLhoc{color:#1967d2;font-size:16px;line-height:20px}.epoveb{font-size:24px;line-height:28px;font-weight:400;color:#202124}.dXDvrc{color:#0d652d;font-size:14px;line-height:20px;word-wrap:break-word}.dloBPe{font-weight:bold}.YVIcad{color:#70757a}.JkVVdd{color:#ea4335}.oXZRFd{color:#ea4335}.MQHtg{color:#fbbc04}.pyMRrb{color:#1e8e3e}.EtTZid{color:#1e8e3e}.M3vVJe{color:#1967d2}.qXLe6d{display:block}.NHQNef{font-style:italic}.Cb8Z7c{white-space:pre}a.ZWRArf{text-decoration:none}a .CVA68e:hover{text-decoration:underline}</style><div class=\"n692Zd\"><div class=\"BnJWBc\"><a class=\"lXLRf\" href=\"/?sa=X&amp;sca_esv=c0b955b0d7f1ad2c&amp;biw=1536&amp;bih=730&amp;output=images&amp;ie=UTF-8&amp;tbm=isch&amp;ved=0ahUKEwj5tIS3yd2HAxVuS2cHHUE6DZsQPAgC\"><img alt=\"Google\" class=\"kgJEQe\" src=\"/images/branding/searchlogo/1x/googlelogo_desk_heirloom_color_150x55dp.gif\"/></a></div><div class=\"FbhRzb\"><form action=\"/search\"><input name=\"sca_esv\" type=\"hidden\" value=\"c0b955b0d7f1ad2c\"/><input name=\"biw\" type=\"hidden\" value=\"1536\"/><input name=\"bih\" type=\"hidden\" value=\"730\"/><input name=\"ie\" type=\"hidden\" value=\"ISO-8859-1\"/><input name=\"tbm\" type=\"hidden\" value=\"isch\"/><input name=\"oq\" type=\"hidden\"/><input name=\"aqs\" type=\"hidden\"/><table class=\"cvifge\"><tr><td class=\"O4cRJf\"><input class=\"MhzMZd\" name=\"q\" type=\"text\" value=\"Salman Khan\"/></td><td class=\"O1ePr\"><input class=\"xB0fq\" type=\"submit\" value=\"Search\"/></td></tr></table></form></div><div class=\"M7pB2\"><table class=\"euZec\"><tbody><tr><td><a class=\"CsQyDc\" href=\"/search?q=Salman+Khan&amp;sca_esv=c0b955b0d7f1ad2c&amp;biw=1536&amp;bih=730&amp;ie=UTF-8&amp;source=lnms&amp;fbs=AEQNm0AMrUEM0u25RSHSP2GXBv1FqRTJXslv5T9cWPShXuZK-unDRtidhDD6MO07O664cf3rzCkRGzT6TOmIkWN6z59BEI_sG_WvMHTpzIDOeN0PG5PbQE-fUxh_CRmIjIVTMPZLqRLt8LEJmd-JeyXMTy_SsVO4Ripm82z6vpZhP9tO4TJ_Xc2C9SbcBfqKU5SUBcd-NfHrlEA0NtWnPbhLSCHG8iDz0g&amp;sa=X&amp;ved=0ahUKEwj5tIS3yd2HAxVuS2cHHUE6DZsQ_AUIBCgA\">ALL</a></td><td><a class=\"CsQyDc\" href=\"/search?q=Salman+Khan&amp;sca_esv=c0b955b0d7f1ad2c&amp;biw=1536&amp;bih=730&amp;ie=UTF-8&amp;tbm=nws&amp;source=lnms&amp;fbs=AEQNm0AMrUEM0u25RSHSP2GXBv1FqRTJXslv5T9cWPShXuZK-unDRtidhDD6MO07O664cf3rzCkRGzT6TOmIkWN6z59BEI_sG_WvMHTpzIDOeN0PG5PbQE-fUxh_CRmIjIVTMPZLqRLt8LEJmd-JeyXMTy_SsVO4Ripm82z6vpZhP9tO4TJ_Xc2C9SbcBfqKU5SUBcd-NfHrlEA0NtWnPbhLSCHG8iDz0g&amp;sa=X&amp;ved=0ahUKEwj5tIS3yd2HAxVuS2cHHUE6DZsQ_AUIBSgB\">NEWS</a></td><td class=\"EY24We\"><span class=\"QIqI7\">IMAGES</span></td><td><a class=\"CsQyDc\" href=\"/search?q=Salman+Khan&amp;sca_esv=c0b955b0d7f1ad2c&amp;biw=1536&amp;bih=730&amp;ie=UTF-8&amp;tbm=vid&amp;source=lnms&amp;fbs=AEQNm0AMrUEM0u25RSHSP2GXBv1FqRTJXslv5T9cWPShXuZK-unDRtidhDD6MO07O664cf3rzCkRGzT6TOmIkWN6z59BEI_sG_WvMHTpzIDOeN0PG5PbQE-fUxh_CRmIjIVTMPZLqRLt8LEJmd-JeyXMTy_SsVO4Ripm82z6vpZhP9tO4TJ_Xc2C9SbcBfqKU5SUBcd-NfHrlEA0NtWnPbhLSCHG8iDz0g&amp;sa=X&amp;ved=0ahUKEwj5tIS3yd2HAxVuS2cHHUE6DZsQ_AUIBygD\">VIDEOS</a></td></tr></tbody></table></div></div><div><table class=\"GpQGbf\"><tr><td align=\"center\" class=\"e3goi\"><div class=\"jjVJ4e\"> <div> <div class=\"lIMUZd\"><div><table class=\"RntSmf\"><tr><td><a href=\"/url?q=https://en.wikipedia.org/wiki/Salman_Khan&amp;sa=U&amp;ved=2ahUKEwj5tIS3yd2HAxVuS2cHHUE6DZsQqoUBegQICBAB&amp;usg=AOvVaw2NOJmNRtDJN9tWjaWiymc5\"><div class=\"kCmkOe\"><img alt=\"\" class=\"DS1iW\" src=\"https://encrypted-tbn0.gstatic.com/images?q=tbn:ANd9GcQ8WTughNjj6PIIbV4YZpJLfFDHKG0NmE7IsVYkRRGeqdvzT3Z-AlOSTD-aNQ&amp;s\"/></div></a></td></tr><tr><td><a href=\"/url?q=https://en.wikipedia.org/wiki/Salman_Khan&amp;sa=U&amp;ved=2ahUKEwj5tIS3yd2HAxVuS2cHHUE6DZsQr4kDegQICBAC&amp;usg=AOvVaw1woS_zCda-5VIELtGtm9oG\"><div class=\"AlD19d\"> <span class=\"qXLe6d x3G5ab\"> <span class=\"fYyStc\">Salman Khan - Wikipedia</span> </span> <span class=\"qXLe6d F9iS2e\"> <span class=\"fYyStc\">en.wikipedia.org</span> </span> </div></a></td></tr></table></div></div> </div> </div></td><td align=\"center\" class=\"e3goi\"><div class=\"jjVJ4e\"> <div> <div class=\"lIMUZd\"><div><table class=\"RntSmf\"><tr><td><a href=\"/url?q=https://www.imdb.com/name/nm0006795/&amp;sa=U&amp;ved=2ahUKEwj5tIS3yd2HAxVuS2cHHUE6DZsQqoUBegQIEhAB&amp;usg=AOvVaw3OjZspGHDUQSk1ni7hhpu_\"><div class=\"kCmkOe\"><img alt=\"\" class=\"DS1iW\" src=\"https://encrypted-tbn0.gstatic.com/images?q=tbn:ANd9GcQsPJlmB541FlXqTl6rCvD33NhUIj0Myk9e4PujbsHZd7vp5QsNLg9tna6GYxs&amp;s\"/></div></a></td></tr><tr><td><a href=\"/url?q=https://www.imdb.com/name/nm0006795/&amp;sa=U&amp;ved=2ahUKEwj5tIS3yd2HAxVuS2cHHUE6DZsQr4kDegQIEhAC&amp;usg=AOvVaw0wnRzYQ0x_eqPf718IlJJ8\"><div class=\"AlD19d\"> <span class=\"qXLe6d x3G5ab\"> <span class=\"fYyStc\">Salman Khan - IMDb</span> </span> <span class=\"qXLe6d F9iS2e\"> <span class=\"fYyStc\">www.imdb.com</span> </span> </div></a></td></tr></table></div></div> </div> </div></td><td align=\"center\" class=\"e3goi\"><div class=\"jjVJ4e\"> <div> <div class=\"lIMUZd\"><div><table class=\"RntSmf\"><tr><td><a href=\"/url?q=https://www.britannica.com/biography/Salman-Khan&amp;sa=U&amp;ved=2ahUKEwj5tIS3yd2HAxVuS2cHHUE6DZsQqoUBegQIExAB&amp;usg=AOvVaw1iAfriqwp6zn4gPWwCkFwl\"><div class=\"kCmkOe\"><img alt=\"\" class=\"DS1iW\" src=\"https://encrypted-tbn0.gstatic.com/images?q=tbn:ANd9GcTEDne1eOpQ4sWD_fRO_FKHe6UkG81SSvjpnRefa7OuM2FTakI-8BGsZyanXgw&amp;s\"/></div></a></td></tr><tr><td><a href=\"/url?q=https://www.britannica.com/biography/Salman-Khan&amp;sa=U&amp;ved=2ahUKEwj5tIS3yd2HAxVuS2cHHUE6DZsQr4kDegQIExAC&amp;usg=AOvVaw0dOseTCUg83etOyarUFIz6\"><div class=\"AlD19d\"> <span class=\"qXLe6d x3G5ab\"> <span class=\"fYyStc\">Salman Khan | Family,...</span> </span> <span class=\"qXLe6d F9iS2e\"> <span class=\"fYyStc\">www.britannica.com</span> </span> </div></a></td></tr></table></div></div> </div> </div></td><td align=\"center\" class=\"e3goi\"><div class=\"jjVJ4e\"> <div> <div class=\"lIMUZd\"><div><table class=\"RntSmf\"><tr><td><a href=\"/url?q=https://www.instagram.com/beingsalmankhan/&amp;sa=U&amp;ved=2ahUKEwj5tIS3yd2HAxVuS2cHHUE6DZsQqoUBegQIEBAB&amp;usg=AOvVaw3P0XPI-iAwP6_qnS-u28ot\"><div class=\"kCmkOe\"><img alt=\"\" class=\"DS1iW\" src=\"https://encrypted-tbn0.gstatic.com/images?q=tbn:ANd9GcTIL9wmDiar7F8pM14CLo2CB0fH1A_OsO94RUChfcFSy0eu7HMeRjkp_gyitQ&amp;s\"/></div></a></td></tr><tr><td><a href=\"/url?q=https://www.instagram.com/beingsalmankhan/&amp;sa=U&amp;ved=2ahUKEwj5tIS3yd2HAxVuS2cHHUE6DZsQr4kDegQIEBAC&amp;usg=AOvVaw1lc7nENKloMeuaz5yXZ9lr\"><div class=\"AlD19d\"> <span class=\"qXLe6d x3G5ab\"> <span class=\"fYyStc\">Salman Khan...</span> </span> <span class=\"qXLe6d F9iS2e\"> <span class=\"fYyStc\">www.instagram.com</span> </span> </div></a></td></tr></table></div></div> </div> </div></td></tr><tr><td align=\"center\" class=\"e3goi\"><div class=\"jjVJ4e\"> <div> <div class=\"lIMUZd\"><div><table class=\"RntSmf\"><tr><td><a href=\"/url?q=https://www.facebook.com/BeingSalmanKhan/&amp;sa=U&amp;ved=2ahUKEwj5tIS3yd2HAxVuS2cHHUE6DZsQqoUBegQICxAB&amp;usg=AOvVaw0OljhBA5gWzGKhW2qZRUc_\"><div class=\"kCmkOe\"><img alt=\"\" class=\"DS1iW\" src=\"https://encrypted-tbn0.gstatic.com/images?q=tbn:ANd9GcTPVV-GtdukcYmshoPv42N-nF-lrgLUnJLFtu2REXoPCaS2xNY8aNkgSY9xpg&amp;s\"/></div></a></td></tr><tr><td><a href=\"/url?q=https://www.facebook.com/BeingSalmanKhan/&amp;sa=U&amp;ved=2ahUKEwj5tIS3yd2HAxVuS2cHHUE6DZsQr4kDegQICxAC&amp;usg=AOvVaw0CT8Ou9K_y8i1zzVZAn4er\"><div class=\"AlD19d\"> <span class=\"qXLe6d x3G5ab\"> <span class=\"fYyStc\">Salman Khan</span> </span> <span class=\"qXLe6d F9iS2e\"> <span class=\"fYyStc\">www.facebook.com</span> </span> </div></a></td></tr></table></div></div> </div> </div></td><td align=\"center\" class=\"e3goi\"><div class=\"jjVJ4e\"> <div> <div class=\"lIMUZd\"><div><table class=\"RntSmf\"><tr><td><a href=\"/url?q=https://www.bollywoodhungama.com/photos/celeb-wallpapers/salman-khan/salman-khan-18/&amp;sa=U&amp;ved=2ahUKEwj5tIS3yd2HAxVuS2cHHUE6DZsQqoUBegQICRAB&amp;usg=AOvVaw1z-G87hwtriA4w-7OT1xOx\"><div class=\"kCmkOe\"><img alt=\"\" class=\"DS1iW\" src=\"https://encrypted-tbn0.gstatic.com/images?q=tbn:ANd9GcQQKjmDfKKhJJAzyRHwVEbxp2H5vpeLomIsSbsfxXOIO9cB5NpvRCCORKPGMMk&amp;s\"/></div></a></td></tr><tr><td><a href=\"/url?q=https://www.bollywoodhungama.com/photos/celeb-wallpapers/salman-khan/salman-khan-18/&amp;sa=U&amp;ved=2ahUKEwj5tIS3yd2HAxVuS2cHHUE6DZsQr4kDegQICRAC&amp;usg=AOvVaw2VYFK5m5o68RgOnNkW-M70\"><div class=\"AlD19d\"> <span class=\"qXLe6d x3G5ab\"> <span class=\"fYyStc\">Salman Khan Wallpapers |...</span> </span> <span class=\"qXLe6d F9iS2e\"> <span class=\"fYyStc\">www.bollywoodhungama.com</span> </span> </div></a></td></tr></table></div></div> </div> </div></td><td align=\"center\" class=\"e3goi\"><div class=\"jjVJ4e\"> <div> <div class=\"lIMUZd\"><div><table class=\"RntSmf\"><tr><td><a href=\"/url?q=https://www.instagram.com/beingsalmankhan/&amp;sa=U&amp;ved=2ahUKEwj5tIS3yd2HAxVuS2cHHUE6DZsQqoUBegQIDhAB&amp;usg=AOvVaw3kcJQeUHcjNBcoFOVxozDM\"><div class=\"kCmkOe\"><img alt=\"\" class=\"DS1iW\" src=\"https://encrypted-tbn0.gstatic.com/images?q=tbn:ANd9GcSUjlDakEtlIjJsd6Ump9rrrXuNyZCyCzNkQmUFqkMxxxtsrPZDvVzE30lpz7g&amp;s\"/></div></a></td></tr><tr><td><a href=\"/url?q=https://www.instagram.com/beingsalmankhan/&amp;sa=U&amp;ved=2ahUKEwj5tIS3yd2HAxVuS2cHHUE6DZsQr4kDegQIDhAC&amp;usg=AOvVaw1a4ASIdx9KYanCm6fBivX_\"><div class=\"AlD19d\"> <span class=\"qXLe6d x3G5ab\"> <span class=\"fYyStc\">Salman Khan...</span> </span> <span class=\"qXLe6d F9iS2e\"> <span class=\"fYyStc\">www.instagram.com</span> </span> </div></a></td></tr></table></div></div> </div> </div></td><td align=\"center\" class=\"e3goi\"><div class=\"jjVJ4e\"> <div> <div class=\"lIMUZd\"><div><table class=\"RntSmf\"><tr><td><a href=\"/url?q=https://www.filmfare.com/nostalgia/pics-the-90s-salman-khan-an-epitome-of-rugged-charm-and-undeniable-looks-58676.html&amp;sa=U&amp;ved=2ahUKEwj5tIS3yd2HAxVuS2cHHUE6DZsQqoUBegQIDxAB&amp;usg=AOvVaw0u_aNh7ufIE7lMUSMT1m3T\"><div class=\"kCmkOe\"><img alt=\"\" class=\"DS1iW\" src=\"https://encrypted-tbn0.gstatic.com/images?q=tbn:ANd9GcR5WVu02Zxz08ydK5B_I4goFf6oKTm2CUWUqpkMRbdUSp-AkJhlLXMTntQ9XA&amp;s\"/></div></a></td></tr><tr><td><a href=\"/url?q=https://www.filmfare.com/nostalgia/pics-the-90s-salman-khan-an-epitome-of-rugged-charm-and-undeniable-looks-58676.html&amp;sa=U&amp;ved=2ahUKEwj5tIS3yd2HAxVuS2cHHUE6DZsQr4kDegQIDxAC&amp;usg=AOvVaw34up7QwdvHzKGMIX0ITn8c\"><div class=\"AlD19d\"> <span class=\"qXLe6d x3G5ab\"> <span class=\"fYyStc\">Pics: The '90s Salman Khan,...</span> </span> <span class=\"qXLe6d F9iS2e\"> <span class=\"fYyStc\">www.filmfare.com</span> </span> </div></a></td></tr></table></div></div> </div> </div></td></tr><tr><td align=\"center\" class=\"e3goi\"><div class=\"jjVJ4e\"> <div> <div class=\"lIMUZd\"><div><table class=\"RntSmf\"><tr><td><a href=\"/url?q=https://www.filmcompanion.in/ampstories/web-stories/salman-khan-remembers-old-days&amp;sa=U&amp;ved=2ahUKEwj5tIS3yd2HAxVuS2cHHUE6DZsQqoUBegQIChAB&amp;usg=AOvVaw2hFi70V3w6UnrgStmrL0pH\"><div class=\"kCmkOe\"><img alt=\"\" class=\"DS1iW\" src=\"https://encrypted-tbn0.gstatic.com/images?q=tbn:ANd9GcRM9gyB5o38pMfM61x_lLW2w6iIBrTt0TiMijP3lUcjucHuaBMRUfkHW9H2wcY&amp;s\"/></div></a></td></tr><tr><td><a href=\"/url?q=https://www.filmcompanion.in/ampstories/web-stories/salman-khan-remembers-old-days&amp;sa=U&amp;ved=2ahUKEwj5tIS3yd2HAxVuS2cHHUE6DZsQr4kDegQIChAC&amp;usg=AOvVaw3UYah8-GG4QIq_CXaMnoOq\"><div class=\"AlD19d\"> <span class=\"qXLe6d x3G5ab\"> <span class=\"fYyStc\">Salman Khan Remembers Old...</span> </span> <span class=\"qXLe6d F9iS2e\"> <span class=\"fYyStc\">www.filmcompanion.in</span> </span> </div></a></td></tr></table></div></div> </div> </div></td><td align=\"center\" class=\"e3goi\"><div class=\"jjVJ4e\"> <div> <div class=\"lIMUZd\"><div><table class=\"RntSmf\"><tr><td><a href=\"/url?q=https://www.thehindu.com/entertainment/salman-khan-grooves-to-aisa-pehli-baar-hua-hai-with-groom-to-be-anant-ambani-at-his-sangeet/article68373985.ece&amp;sa=U&amp;ved=2ahUKEwj5tIS3yd2HAxVuS2cHHUE6DZsQqoUBegQIERAB&amp;usg=AOvVaw3Hk8MoKuJ7zShWdWNixder\"><div class=\"kCmkOe\"><img alt=\"\" class=\"DS1iW\" src=\"https://encrypted-tbn0.gstatic.com/images?q=tbn:ANd9GcR_vD6_gAlRo48zqLGfAPdUdoymf_vwUGM_PwN4FXdyakQxe4fyP1VqYa1-lw&amp;s\"/></div></a></td></tr><tr><td><a href=\"/url?q=https://www.thehindu.com/entertainment/salman-khan-grooves-to-aisa-pehli-baar-hua-hai-with-groom-to-be-anant-ambani-at-his-sangeet/article68373985.ece&amp;sa=U&amp;ved=2ahUKEwj5tIS3yd2HAxVuS2cHHUE6DZsQr4kDegQIERAC&amp;usg=AOvVaw0GBQt7uf5-9zLXELm5mWpG\"><div class=\"AlD19d\"> <span class=\"qXLe6d x3G5ab\"> <span class=\"fYyStc\">Salman Khan grooves to...</span> </span> <span class=\"qXLe6d F9iS2e\"> <span class=\"fYyStc\">www.thehindu.com</span> </span> </div></a></td></tr></table></div></div> </div> </div></td><td align=\"center\" class=\"e3goi\"><div class=\"jjVJ4e\"> <div> <div class=\"lIMUZd\"><div><table class=\"RntSmf\"><tr><td><a href=\"/url?q=https://in.bookmyshow.com/person/salman-khan/1991&amp;sa=U&amp;ved=2ahUKEwj5tIS3yd2HAxVuS2cHHUE6DZsQqoUBegQIDRAB&amp;usg=AOvVaw31P8unoE_dBj3UOiST1K5Z\"><div class=\"kCmkOe\"><img alt=\"\" class=\"DS1iW\" src=\"https://encrypted-tbn0.gstatic.com/images?q=tbn:ANd9GcS4IRohWS0oQyw8dCQDHZCbaelnPDQ3BSD7pzC45LnQgWj0XKewLqleUqC4PVg&amp;s\"/></div></a></td></tr><tr><td><a href=\"/url?q=https://in.bookmyshow.com/person/salman-khan/1991&amp;sa=U&amp;ved=2ahUKEwj5tIS3yd2HAxVuS2cHHUE6DZsQr4kDegQIDRAC&amp;usg=AOvVaw2f6S9156sdbSAfZq69py8M\"><div class=\"AlD19d\"> <span class=\"qXLe6d x3G5ab\"> <span class=\"fYyStc\">Salman Khan - Movies,...</span> </span> <span class=\"qXLe6d F9iS2e\"> <span class=\"fYyStc\">in.bookmyshow.com</span> </span> </div></a></td></tr></table></div></div> </div> </div></td><td align=\"center\" class=\"e3goi\"><div class=\"jjVJ4e\"> <div> <div class=\"lIMUZd\"><div><table class=\"RntSmf\"><tr><td><a href=\"/url?q=https://www.financialexpress.com/web-stories/lifestyle/salman-khan-take-a-look-at-6-ridiculously-expensive-things-owned-by-the-actor/&amp;sa=U&amp;ved=2ahUKEwj5tIS3yd2HAxVuS2cHHUE6DZsQqoUBegQIDBAB&amp;usg=AOvVaw396QHd6VzX5mweZ9AJJ5Hw\"><div class=\"kCmkOe\"><img alt=\"\" class=\"DS1iW\" src=\"https://encrypted-tbn0.gstatic.com/images?q=tbn:ANd9GcRJwCrdf7758S_GlLWgVV50McDImqCqRGEKqqPJROsXzFLelS5p8d43q1q981I&amp;s\"/></div></a></td></tr><tr><td><a href=\"/url?q=https://www.financialexpress.com/web-stories/lifestyle/salman-khan-take-a-look-at-6-ridiculously-expensive-things-owned-by-the-actor/&amp;sa=U&amp;ved=2ahUKEwj5tIS3yd2HAxVuS2cHHUE6DZsQr4kDegQIDBAC&amp;usg=AOvVaw1Sl5KygOV395JopmylVnUd\"><div class=\"AlD19d\"> <span class=\"qXLe6d x3G5ab\"> <span class=\"fYyStc\">Salman Khan: Take a look at...</span> </span> <span class=\"qXLe6d F9iS2e\"> <span class=\"fYyStc\">www.financialexpress.com</span> </span> </div></a></td></tr></table></div></div> </div> </div></td></tr><tr><td align=\"center\" class=\"e3goi\"><div class=\"jjVJ4e\"> <div> <div class=\"lIMUZd\"><div><table class=\"RntSmf\"><tr><td><a href=\"/url?q=https://www.timesnownews.com/entertainment-news/bollywood/ap-dhillon-teases-upcoming-project-old-money-with-salman-khan-sanjay-dutt-breaks-internet-with-intriguing-teaser-article-112230571&amp;sa=U&amp;ved=2ahUKEwj5tIS3yd2HAxVuS2cHHUE6DZsQqoUBegQIAhAB&amp;usg=AOvVaw0Pxbie0WlMXCfS0TyjXjtG\"><div class=\"kCmkOe\"><img alt=\"\" class=\"DS1iW\" src=\"https://encrypted-tbn0.gstatic.com/images?q=tbn:ANd9GcQZq5NAg3Kxpgb_EzUdDbumRt-icRgQ_1z1BGZr0dE2gzoAfW6yo-_XwFod3Q&amp;s\"/></div></a></td></tr><tr><td><a href=\"/url?q=https://www.timesnownews.com/entertainment-news/bollywood/ap-dhillon-teases-upcoming-project-old-money-with-salman-khan-sanjay-dutt-breaks-internet-with-intriguing-teaser-article-112230571&amp;sa=U&amp;ved=2ahUKEwj5tIS3yd2HAxVuS2cHHUE6DZsQr4kDegQIAhAC&amp;usg=AOvVaw0iKbUn-LD7hVlfRB0vozvV\"><div class=\"AlD19d\"> <span class=\"qXLe6d x3G5ab\"> <span class=\"fYyStc\">AP Dhillon Teases Upcoming...</span> </span> <span class=\"qXLe6d F9iS2e\"> <span class=\"fYyStc\">www.timesnownews.com</span> </span> </div></a></td></tr></table></div></div> </div> </div></td><td align=\"center\" class=\"e3goi\"><div class=\"jjVJ4e\"> <div> <div class=\"lIMUZd\"><div><table class=\"RntSmf\"><tr><td><a href=\"/url?q=https://www.news18.com/movies/salman-khan-turns-58-top-10-movies-that-prove-hes-hindi-cinemas-ageless-wonder-8718236.html&amp;sa=U&amp;ved=2ahUKEwj5tIS3yd2HAxVuS2cHHUE6DZsQqoUBegQIBhAB&amp;usg=AOvVaw1B3HYtW2D7GqRsqAQtffix\"><div class=\"kCmkOe\"><img alt=\"\" class=\"DS1iW\" src=\"https://encrypted-tbn0.gstatic.com/images?q=tbn:ANd9GcQvRnlubSQ7fXFQL6lxngzb7Uk_qWf8ozr0rYaCnvgVF4iwg5J0foLBt6wOov0&amp;s\"/></div></a></td></tr><tr><td><a href=\"/url?q=https://www.news18.com/movies/salman-khan-turns-58-top-10-movies-that-prove-hes-hindi-cinemas-ageless-wonder-8718236.html&amp;sa=U&amp;ved=2ahUKEwj5tIS3yd2HAxVuS2cHHUE6DZsQr4kDegQIBhAC&amp;usg=AOvVaw2iHcnI6GLa97vyZzZSYicT\"><div class=\"AlD19d\"> <span class=\"qXLe6d x3G5ab\"> <span class=\"fYyStc\">Salman Khan Turns 58: Top...</span> </span> <span class=\"qXLe6d F9iS2e\"> <span class=\"fYyStc\">www.news18.com</span> </span> </div></a></td></tr></table></div></div> </div> </div></td><td align=\"center\" class=\"e3goi\"><div class=\"jjVJ4e\"> <div> <div class=\"lIMUZd\"><div><table class=\"RntSmf\"><tr><td><a href=\"/url?q=https://www.britannica.com/biography/Salman-Khan&amp;sa=U&amp;ved=2ahUKEwj5tIS3yd2HAxVuS2cHHUE6DZsQqoUBegQIABAB&amp;usg=AOvVaw3cvmUvrc58V6Kb8HDXTLR0\"><div class=\"kCmkOe\"><img alt=\"\" class=\"DS1iW\" src=\"https://encrypted-tbn0.gstatic.com/images?q=tbn:ANd9GcQ7vmo-unMTpe5PV8vhNibHGSv9MB8Yuu3J7vktf_sfRq0qaVxkS5ktG6fYEC0&amp;s\"/></div></a></td></tr><tr><td><a href=\"/url?q=https://www.britannica.com/biography/Salman-Khan&amp;sa=U&amp;ved=2ahUKEwj5tIS3yd2HAxVuS2cHHUE6DZsQr4kDegQIABAC&amp;usg=AOvVaw1B5G2JTVW5xcasJ1DtCzkd\"><div class=\"AlD19d\"> <span class=\"qXLe6d x3G5ab\"> <span class=\"fYyStc\">Salman Khan | Family,...</span> </span> <span class=\"qXLe6d F9iS2e\"> <span class=\"fYyStc\">www.britannica.com</span> </span> </div></a></td></tr></table></div></div> </div> </div></td><td align=\"center\" class=\"e3goi\"><div class=\"jjVJ4e\"> <div> <div class=\"lIMUZd\"><div><table class=\"RntSmf\"><tr><td><a href=\"/url?q=https://www.moneycontrol.com/entertainment/salman-khan-collabs-with-jacob-and-co-wears-bugatti-chiron-tourbillon-watch-worth-rs-4-crore-ranveer-singh-says-jacob-bhai-ki-toh-nikal-padi-article-12781154.html&amp;sa=U&amp;ved=2ahUKEwj5tIS3yd2HAxVuS2cHHUE6DZsQqoUBegQIBBAB&amp;usg=AOvVaw3rrCmuX1hqlzpmiFrtwvng\"><div class=\"kCmkOe\"><img alt=\"\" class=\"DS1iW\" src=\"https://encrypted-tbn0.gstatic.com/images?q=tbn:ANd9GcT_j0DSmU9x6mdg719PZV4K5zhdlBnWGdEY0r_YzzdDy1QNwYLQG4XLeqcFtAY&amp;s\"/></div></a></td></tr><tr><td><a href=\"/url?q=https://www.moneycontrol.com/entertainment/salman-khan-collabs-with-jacob-and-co-wears-bugatti-chiron-tourbillon-watch-worth-rs-4-crore-ranveer-singh-says-jacob-bhai-ki-toh-nikal-padi-article-12781154.html&amp;sa=U&amp;ved=2ahUKEwj5tIS3yd2HAxVuS2cHHUE6DZsQr4kDegQIBBAC&amp;usg=AOvVaw3GUgnensnlpZE90qiJVKGB\"><div class=\"AlD19d\"> <span class=\"qXLe6d x3G5ab\"> <span class=\"fYyStc\">Salman Khan collabs with...</span> </span> <span class=\"qXLe6d F9iS2e\"> <span class=\"fYyStc\">www.moneycontrol.com</span> </span> </div></a></td></tr></table></div></div> </div> </div></td></tr><tr><td align=\"center\" class=\"e3goi\"><div class=\"jjVJ4e\"> <div> <div class=\"lIMUZd\"><div><table class=\"RntSmf\"><tr><td><a href=\"/url?q=https://www.alamy.com/salman-khan-indian-bollywood-film-actor-producer-singer-television-personality-abdul-rashid-salim-salman-khan-india-asia-old-vintage-1900s-picture-image346775822.html&amp;sa=U&amp;ved=2ahUKEwj5tIS3yd2HAxVuS2cHHUE6DZsQqoUBegQIBxAB&amp;usg=AOvVaw3Zd3LN2hvLfMOJ_zK9Wqxi\"><div class=\"kCmkOe\"><img alt=\"\" class=\"DS1iW\" src=\"https://encrypted-tbn0.gstatic.com/images?q=tbn:ANd9GcRIrFYPFYBcaD5Vz2UXmf-wlgO0ZATlQvu4TiM5-TUFg6_jWW1AaqxqKUDL3bU&amp;s\"/></div></a></td></tr><tr><td><a href=\"/url?q=https://www.alamy.com/salman-khan-indian-bollywood-film-actor-producer-singer-television-personality-abdul-rashid-salim-salman-khan-india-asia-old-vintage-1900s-picture-image346775822.html&amp;sa=U&amp;ved=2ahUKEwj5tIS3yd2HAxVuS2cHHUE6DZsQr4kDegQIBxAC&amp;usg=AOvVaw3KS6qSyGgRbMnoS92syEBL\"><div class=\"AlD19d\"> <span class=\"qXLe6d x3G5ab\"> <span class=\"fYyStc\">Salman Khan, Indian...</span> </span> <span class=\"qXLe6d F9iS2e\"> <span class=\"fYyStc\">www.alamy.com</span> </span> </div></a></td></tr></table></div></div> </div> </div></td><td align=\"center\" class=\"e3goi\"><div class=\"jjVJ4e\"> <div> <div class=\"lIMUZd\"><div><table class=\"RntSmf\"><tr><td><a href=\"/url?q=https://in.pinterest.com/pin/salman-khan--413768284527664043/&amp;sa=U&amp;ved=2ahUKEwj5tIS3yd2HAxVuS2cHHUE6DZsQqoUBegQIAxAB&amp;usg=AOvVaw2tE3Vs9nF1eVoI3y9fdrYH\"><div class=\"kCmkOe\"><img alt=\"\" class=\"DS1iW\" src=\"https://encrypted-tbn0.gstatic.com/images?q=tbn:ANd9GcQVwH8TqlMMcOkYc6UtQ8S_E2SRNLg2cNAz3HWG_tEDww9ivw89D31pjpBhoUg&amp;s\"/></div></a></td></tr><tr><td><a href=\"/url?q=https://in.pinterest.com/pin/salman-khan--413768284527664043/&amp;sa=U&amp;ved=2ahUKEwj5tIS3yd2HAxVuS2cHHUE6DZsQr4kDegQIAxAC&amp;usg=AOvVaw2AP7iUfH7mp8cdjU9xMp5r\"><div class=\"AlD19d\"> <span class=\"qXLe6d x3G5ab\"> <span class=\"fYyStc\">3834eb039d11eff3fa3785ef732...</span> </span> <span class=\"qXLe6d F9iS2e\"> <span class=\"fYyStc\">in.pinterest.com</span> </span> </div></a></td></tr></table></div></div> </div> </div></td><td align=\"center\" class=\"e3goi\"><div class=\"jjVJ4e\"> <div> <div class=\"lIMUZd\"><div><table class=\"RntSmf\"><tr><td><a href=\"/url?q=https://www.koimoi.com/bollywood-news/when-shah-rukh-khan-refused-to-hug-salman-khan-after-their-fight-i-know-how-to-say-sorry-but-i-cant/&amp;sa=U&amp;ved=2ahUKEwj5tIS3yd2HAxVuS2cHHUE6DZsQqoUBegQIARAB&amp;usg=AOvVaw1VIUlzVWPoIFvDaXUEYlMn\"><div class=\"kCmkOe\"><img alt=\"\" class=\"DS1iW\" src=\"https://encrypted-tbn0.gstatic.com/images?q=tbn:ANd9GcQdtaZOn9Vzzi4xt7R9a1kGfs2VS9PZV5zqADL57inr4oQurApM0C7AnxAFIA8&amp;s\"/></div></a></td></tr><tr><td><a href=\"/url?q=https://www.koimoi.com/bollywood-news/when-shah-rukh-khan-refused-to-hug-salman-khan-after-their-fight-i-know-how-to-say-sorry-but-i-cant/&amp;sa=U&amp;ved=2ahUKEwj5tIS3yd2HAxVuS2cHHUE6DZsQr4kDegQIARAC&amp;usg=AOvVaw3b01mLLswoMUzNOnL0B5Av\"><div class=\"AlD19d\"> <span class=\"qXLe6d x3G5ab\"> <span class=\"fYyStc\">When Shah Rukh Khan Refused...</span> </span> <span class=\"qXLe6d F9iS2e\"> <span class=\"fYyStc\">www.koimoi.com</span> </span> </div></a></td></tr></table></div></div> </div> </div></td><td align=\"center\" class=\"e3goi\"><div class=\"jjVJ4e\"> <div> <div class=\"lIMUZd\"><div><table class=\"RntSmf\"><tr><td><a href=\"/url?q=https://www.bollywoodhungama.com/news/bollywood/salman-khan-helps-18-year-old-boy-karnataka-ration-educational-equipment-father-succumbs-covid-19/&amp;sa=U&amp;ved=2ahUKEwj5tIS3yd2HAxVuS2cHHUE6DZsQqoUBegQIBRAB&amp;usg=AOvVaw0CKXc_GvNkrjnFsxGKysoY\"><div class=\"kCmkOe\"><img alt=\"\" class=\"DS1iW\" src=\"https://encrypted-tbn0.gstatic.com/images?q=tbn:ANd9GcR3qA8EKTCS85DnobU9yBz7bMAWBXeyw8deI09u_jnYPunNEaFxWzdoR4eD2MA&amp;s\"/></div></a></td></tr><tr><td><a href=\"/url?q=https://www.bollywoodhungama.com/news/bollywood/salman-khan-helps-18-year-old-boy-karnataka-ration-educational-equipment-father-succumbs-covid-19/&amp;sa=U&amp;ved=2ahUKEwj5tIS3yd2HAxVuS2cHHUE6DZsQr4kDegQIBRAC&amp;usg=AOvVaw24utIBsj3PRVS9-FljTNLP\"><div class=\"AlD19d\"> <span class=\"qXLe6d x3G5ab\"> <span class=\"fYyStc\">Salman Khan helps...</span> </span> <span class=\"qXLe6d F9iS2e\"> <span class=\"fYyStc\">www.bollywoodhungama.com</span> </span> </div></a></td></tr></table></div></div> </div> </div></td></tr></table></div><table class=\"uZgmoc\"><tbody><td><a class=\"frGj1b\" href=\"/search?q=Salman+Khan&amp;sca_esv=c0b955b0d7f1ad2c&amp;biw=1536&amp;bih=730&amp;ie=UTF-8&amp;tbm=isch&amp;ei=GKCwZvnIK-6WnesPwfS02Ak&amp;start=20&amp;sa=N\">Next &gt;</a></td></tbody></table><br/><div class=\"TuS8Ad\" data-ved=\"0ahUKEwj5tIS3yd2HAxVuS2cHHUE6DZsQpyoIRQ\"><style>.VYM29{font-weight:bold}</style><div align=\"center\" class=\"HddGcc\"><span class=\"VYM29\">380009, Ahmedabad, Gujarat</span><span> - </span><span>From your IP address</span><span> - </span><a href=\"/url?q=https://support.google.com/websearch%3Fp%3Dws_settings_location%26hl%3Den-IN&amp;opi=89978449&amp;sa=U&amp;ved=0ahUKEwj5tIS3yd2HAxVuS2cHHUE6DZsQty4IRg&amp;usg=AOvVaw0Mag1lnMBm3_hctHWBUYGr\">Learn more</a></div><div align=\"center\"><a class=\"rEM8G\" href=\"/url?q=https://accounts.google.com/ServiceLogin%3Fcontinue%3Dhttps://www.google.com/search%253Fsca_esv%253Dc0b955b0d7f1ad2c%2526sxsrf%253DADLYWIJ99v585UrpL-ET7B-kRd_2gXcong:1722850946788%2526q%253DSalman%252BKhan%2526fbs%253DAEQNm0AMrUEM0u25RSHSP2GXBv1FqRTJXslv5T9cWPShXuZK-unDRtidhDD6MO07O664cf3rzCkRGzT6TOmIkWN6z59BEI_sG_WvMHTpzIDOeN0PG5PbQE-fUxh_CRmIjIVTMPZLqRLt8LEJmd-JeyXMTy_SsVO4Ripm82z6vpZhP9tO4TJ_Xc2C9SbcBfqKU5SUBcd-NfHrlEA0NtWnPbhLSCHG8iDz0g%2526sa%253DX%2526ved%253D2ahUKEwjYrbz1x92HAxXl-TgGHZ_aLukQtKgLegQIBxAB%2526biw%253D1536%2526bih%253D730%2526dpr%253D1.25%2526tbm%253Disch%26hl%3Den&amp;opi=89978449&amp;sa=U&amp;ved=0ahUKEwj5tIS3yd2HAxVuS2cHHUE6DZsQxs8CCEc&amp;usg=AOvVaw0fKY3ERr-hiBhyK5uTwWKL\">Sign in</a></div><div><table class=\"bookcf\"><tbody class=\"InWNIe\"><tr><td><a class=\"rEM8G\" href=\"https://www.google.com/preferences?hl=en&amp;sa=X&amp;ved=0ahUKEwj5tIS3yd2HAxVuS2cHHUE6DZsQv5YECEg\">Settings</a></td><td><a class=\"rEM8G\" href=\"https://www.google.com/intl/en_in/policies/privacy/\">Privacy</a></td><td><a class=\"rEM8G\" href=\"https://www.google.com/intl/en_in/policies/terms/\">Terms</a></td></tr></tbody></table></div></div><div> </div></body></html>"
      ]
     },
     "execution_count": 21,
     "metadata": {},
     "output_type": "execute_result"
    }
   ],
   "source": [
    "soup"
   ]
  },
  {
   "cell_type": "code",
   "execution_count": 22,
   "metadata": {},
   "outputs": [
    {
     "data": {
      "text/plain": [
       "[<img alt=\"Google\" class=\"kgJEQe\" src=\"/images/branding/searchlogo/1x/googlelogo_desk_heirloom_color_150x55dp.gif\"/>,\n",
       " <img alt=\"\" class=\"DS1iW\" src=\"https://encrypted-tbn0.gstatic.com/images?q=tbn:ANd9GcQ8WTughNjj6PIIbV4YZpJLfFDHKG0NmE7IsVYkRRGeqdvzT3Z-AlOSTD-aNQ&amp;s\"/>,\n",
       " <img alt=\"\" class=\"DS1iW\" src=\"https://encrypted-tbn0.gstatic.com/images?q=tbn:ANd9GcQsPJlmB541FlXqTl6rCvD33NhUIj0Myk9e4PujbsHZd7vp5QsNLg9tna6GYxs&amp;s\"/>,\n",
       " <img alt=\"\" class=\"DS1iW\" src=\"https://encrypted-tbn0.gstatic.com/images?q=tbn:ANd9GcTEDne1eOpQ4sWD_fRO_FKHe6UkG81SSvjpnRefa7OuM2FTakI-8BGsZyanXgw&amp;s\"/>,\n",
       " <img alt=\"\" class=\"DS1iW\" src=\"https://encrypted-tbn0.gstatic.com/images?q=tbn:ANd9GcTIL9wmDiar7F8pM14CLo2CB0fH1A_OsO94RUChfcFSy0eu7HMeRjkp_gyitQ&amp;s\"/>,\n",
       " <img alt=\"\" class=\"DS1iW\" src=\"https://encrypted-tbn0.gstatic.com/images?q=tbn:ANd9GcTPVV-GtdukcYmshoPv42N-nF-lrgLUnJLFtu2REXoPCaS2xNY8aNkgSY9xpg&amp;s\"/>,\n",
       " <img alt=\"\" class=\"DS1iW\" src=\"https://encrypted-tbn0.gstatic.com/images?q=tbn:ANd9GcQQKjmDfKKhJJAzyRHwVEbxp2H5vpeLomIsSbsfxXOIO9cB5NpvRCCORKPGMMk&amp;s\"/>,\n",
       " <img alt=\"\" class=\"DS1iW\" src=\"https://encrypted-tbn0.gstatic.com/images?q=tbn:ANd9GcSUjlDakEtlIjJsd6Ump9rrrXuNyZCyCzNkQmUFqkMxxxtsrPZDvVzE30lpz7g&amp;s\"/>,\n",
       " <img alt=\"\" class=\"DS1iW\" src=\"https://encrypted-tbn0.gstatic.com/images?q=tbn:ANd9GcR5WVu02Zxz08ydK5B_I4goFf6oKTm2CUWUqpkMRbdUSp-AkJhlLXMTntQ9XA&amp;s\"/>,\n",
       " <img alt=\"\" class=\"DS1iW\" src=\"https://encrypted-tbn0.gstatic.com/images?q=tbn:ANd9GcRM9gyB5o38pMfM61x_lLW2w6iIBrTt0TiMijP3lUcjucHuaBMRUfkHW9H2wcY&amp;s\"/>,\n",
       " <img alt=\"\" class=\"DS1iW\" src=\"https://encrypted-tbn0.gstatic.com/images?q=tbn:ANd9GcR_vD6_gAlRo48zqLGfAPdUdoymf_vwUGM_PwN4FXdyakQxe4fyP1VqYa1-lw&amp;s\"/>,\n",
       " <img alt=\"\" class=\"DS1iW\" src=\"https://encrypted-tbn0.gstatic.com/images?q=tbn:ANd9GcS4IRohWS0oQyw8dCQDHZCbaelnPDQ3BSD7pzC45LnQgWj0XKewLqleUqC4PVg&amp;s\"/>,\n",
       " <img alt=\"\" class=\"DS1iW\" src=\"https://encrypted-tbn0.gstatic.com/images?q=tbn:ANd9GcRJwCrdf7758S_GlLWgVV50McDImqCqRGEKqqPJROsXzFLelS5p8d43q1q981I&amp;s\"/>,\n",
       " <img alt=\"\" class=\"DS1iW\" src=\"https://encrypted-tbn0.gstatic.com/images?q=tbn:ANd9GcQZq5NAg3Kxpgb_EzUdDbumRt-icRgQ_1z1BGZr0dE2gzoAfW6yo-_XwFod3Q&amp;s\"/>,\n",
       " <img alt=\"\" class=\"DS1iW\" src=\"https://encrypted-tbn0.gstatic.com/images?q=tbn:ANd9GcQvRnlubSQ7fXFQL6lxngzb7Uk_qWf8ozr0rYaCnvgVF4iwg5J0foLBt6wOov0&amp;s\"/>,\n",
       " <img alt=\"\" class=\"DS1iW\" src=\"https://encrypted-tbn0.gstatic.com/images?q=tbn:ANd9GcQ7vmo-unMTpe5PV8vhNibHGSv9MB8Yuu3J7vktf_sfRq0qaVxkS5ktG6fYEC0&amp;s\"/>,\n",
       " <img alt=\"\" class=\"DS1iW\" src=\"https://encrypted-tbn0.gstatic.com/images?q=tbn:ANd9GcT_j0DSmU9x6mdg719PZV4K5zhdlBnWGdEY0r_YzzdDy1QNwYLQG4XLeqcFtAY&amp;s\"/>,\n",
       " <img alt=\"\" class=\"DS1iW\" src=\"https://encrypted-tbn0.gstatic.com/images?q=tbn:ANd9GcRIrFYPFYBcaD5Vz2UXmf-wlgO0ZATlQvu4TiM5-TUFg6_jWW1AaqxqKUDL3bU&amp;s\"/>,\n",
       " <img alt=\"\" class=\"DS1iW\" src=\"https://encrypted-tbn0.gstatic.com/images?q=tbn:ANd9GcQVwH8TqlMMcOkYc6UtQ8S_E2SRNLg2cNAz3HWG_tEDww9ivw89D31pjpBhoUg&amp;s\"/>,\n",
       " <img alt=\"\" class=\"DS1iW\" src=\"https://encrypted-tbn0.gstatic.com/images?q=tbn:ANd9GcQdtaZOn9Vzzi4xt7R9a1kGfs2VS9PZV5zqADL57inr4oQurApM0C7AnxAFIA8&amp;s\"/>,\n",
       " <img alt=\"\" class=\"DS1iW\" src=\"https://encrypted-tbn0.gstatic.com/images?q=tbn:ANd9GcR3qA8EKTCS85DnobU9yBz7bMAWBXeyw8deI09u_jnYPunNEaFxWzdoR4eD2MA&amp;s\"/>]"
      ]
     },
     "execution_count": 22,
     "metadata": {},
     "output_type": "execute_result"
    }
   ],
   "source": [
    "images_tages = soup.find_all(\"img\")\n",
    "images_tages"
   ]
  },
  {
   "cell_type": "code",
   "execution_count": 23,
   "metadata": {},
   "outputs": [
    {
     "data": {
      "text/plain": [
       "21"
      ]
     },
     "execution_count": 23,
     "metadata": {},
     "output_type": "execute_result"
    }
   ],
   "source": [
    "len(images_tages)"
   ]
  },
  {
   "cell_type": "code",
   "execution_count": 24,
   "metadata": {},
   "outputs": [],
   "source": [
    "del images_tages[0]"
   ]
  },
  {
   "cell_type": "code",
   "execution_count": 25,
   "metadata": {},
   "outputs": [],
   "source": [
    "for i in images_tages:\n",
    "    image_url = i [\"src\"]\n",
    "    image_data = requests.get(image_url).content\n",
    "    with open(os.path.join(save_dir,f\"{query}_{images_tages.index(i)}.jpg\"), \"wb\") as f:\n",
    "        f.write(image_data)"
   ]
  },
  {
   "cell_type": "markdown",
   "metadata": {},
   "source": [
    "Thanks for watching..this can be good project for resume"
   ]
  },
  {
   "cell_type": "code",
   "execution_count": null,
   "metadata": {},
   "outputs": [],
   "source": []
  },
  {
   "cell_type": "code",
   "execution_count": null,
   "metadata": {},
   "outputs": [],
   "source": []
  }
 ],
 "metadata": {
  "kernelspec": {
   "display_name": "Python 3",
   "language": "python",
   "name": "python3"
  },
  "language_info": {
   "codemirror_mode": {
    "name": "ipython",
    "version": 3
   },
   "file_extension": ".py",
   "mimetype": "text/x-python",
   "name": "python",
   "nbconvert_exporter": "python",
   "pygments_lexer": "ipython3",
   "version": "3.11.0"
  }
 },
 "nbformat": 4,
 "nbformat_minor": 2
}
